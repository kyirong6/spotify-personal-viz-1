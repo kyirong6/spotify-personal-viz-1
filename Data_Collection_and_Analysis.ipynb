{
 "cells": [
  {
   "cell_type": "markdown",
   "id": "85eb42be",
   "metadata": {},
   "source": [
    "## Convert JSON Objects into Data Frames\n",
    "\n",
    "The data was collected by CURLing the requests in my own terminal using the [Spotify Web API](https://developer.spotify.com/documentation/web-api/reference/):"
   ]
  },
  {
   "cell_type": "markdown",
   "id": "40cfff19",
   "metadata": {},
   "source": [
    "### Read JSON Files"
   ]
  },
  {
   "cell_type": "code",
   "execution_count": 27,
   "id": "50bae283",
   "metadata": {},
   "outputs": [],
   "source": [
    "import json"
   ]
  },
  {
   "cell_type": "code",
   "execution_count": 40,
   "id": "65511633",
   "metadata": {},
   "outputs": [],
   "source": [
    "time_range = ['short_term', 'medium_term', 'long_term']"
   ]
  },
  {
   "cell_type": "markdown",
   "id": "8dc8ae40",
   "metadata": {},
   "source": [
    "##### Tracks"
   ]
  },
  {
   "cell_type": "code",
   "execution_count": 42,
   "id": "1845b985",
   "metadata": {},
   "outputs": [],
   "source": [
    "track_data_json = {}\n",
    "for term in time_range:\n",
    "    with open(f\"data/top_tracks_{term}.json\") as json_file:\n",
    "        data = json.load(json_file)\n",
    "    key = f'{term}'\n",
    "    track_data_json[key] = data"
   ]
  },
  {
   "cell_type": "markdown",
   "id": "e96f8bf5",
   "metadata": {},
   "source": [
    "##### Artists"
   ]
  },
  {
   "cell_type": "code",
   "execution_count": 48,
   "id": "0fbea94f",
   "metadata": {},
   "outputs": [],
   "source": [
    "artists_data_json = {}\n",
    "for term in time_range:\n",
    "    with open(f\"data/top_artists_{term}.json\") as json_file:\n",
    "        data = json.load(json_file)\n",
    "    key = f'{term}'\n",
    "    artists_data_json[key] = data"
   ]
  },
  {
   "cell_type": "markdown",
   "id": "573488c6",
   "metadata": {},
   "source": [
    "### Organize Artists and Tracks Data"
   ]
  },
  {
   "cell_type": "markdown",
   "id": "31a27e34",
   "metadata": {},
   "source": [
    "Turn the dictionaries into csv and pandas dataframe"
   ]
  },
  {
   "cell_type": "code",
   "execution_count": 53,
   "id": "5d09d484",
   "metadata": {},
   "outputs": [],
   "source": [
    "for term in time_range:\n",
    "    data = artists_data_json[term]\n",
    "    df = pd.DataFrame(data['items'])\n",
    "    df.to_csv(f'data/top_artists_{term}.csv')"
   ]
  },
  {
   "cell_type": "code",
   "execution_count": 57,
   "id": "e64235e4",
   "metadata": {},
   "outputs": [],
   "source": [
    "for term in time_range:\n",
    "    data = track_data_json[term]\n",
    "    df = pd.DataFrame(data['items'])\n",
    "    df.to_csv(f'data/top_tracks_{term}.csv')"
   ]
  },
  {
   "cell_type": "code",
   "execution_count": 58,
   "id": "8b49970b",
   "metadata": {},
   "outputs": [],
   "source": [
    "top_artists_short_term_df = pd.read_csv('data/top_artists_short_term.csv')\n",
    "top_artists_medium_term_df = pd.read_csv('data/top_artists_medium_term.csv')\n",
    "top_artists_long_term_df = pd.read_csv('data/top_artists_long_term.csv')"
   ]
  },
  {
   "cell_type": "code",
   "execution_count": 59,
   "id": "da524ccc",
   "metadata": {},
   "outputs": [],
   "source": [
    "top_tracks_short_term_df = pd.read_csv('data/top_tracks_short_term.csv')\n",
    "top_tracks_medium_term_df = pd.read_csv('data/top_tracks_medium_term.csv')\n",
    "top_tracks_long_term_df = pd.read_csv('data/top_tracks_long_term.csv')"
   ]
  },
  {
   "cell_type": "markdown",
   "id": "6f44d243",
   "metadata": {},
   "source": [
    "### Keep Popularity and Genres for Artists"
   ]
  },
  {
   "cell_type": "code",
   "execution_count": 134,
   "id": "a438e60d",
   "metadata": {},
   "outputs": [],
   "source": [
    "artist_features = ['genres', 'name', 'popularity', 'id']"
   ]
  },
  {
   "cell_type": "code",
   "execution_count": 135,
   "id": "b6412f6a",
   "metadata": {},
   "outputs": [],
   "source": [
    "top_artists_short_term_reduced = top_artists_short_term_df[artist_features]\n",
    "top_artists_medium_term_reduced = top_artists_medium_term_df[artist_features]\n",
    "top_artists_long_term_reduced = top_artists_long_term_df[artist_features]"
   ]
  },
  {
   "cell_type": "code",
   "execution_count": 138,
   "id": "d90a1890",
   "metadata": {},
   "outputs": [],
   "source": [
    "top_artists_short_term_reduced.to_csv('data/artists_short_term_reduced.csv')\n",
    "top_artists_medium_term_reduced.to_csv('data/artists_medium_term_reduced.csv')\n",
    "top_artists_long_term_reduced.to_csv('data/artists_long_term_reduced.csv')"
   ]
  },
  {
   "cell_type": "code",
   "execution_count": 215,
   "id": "e020f594",
   "metadata": {},
   "outputs": [
    {
     "data": {
      "text/html": [
       "<div>\n",
       "<style scoped>\n",
       "    .dataframe tbody tr th:only-of-type {\n",
       "        vertical-align: middle;\n",
       "    }\n",
       "\n",
       "    .dataframe tbody tr th {\n",
       "        vertical-align: top;\n",
       "    }\n",
       "\n",
       "    .dataframe thead th {\n",
       "        text-align: right;\n",
       "    }\n",
       "</style>\n",
       "<table border=\"1\" class=\"dataframe\">\n",
       "  <thead>\n",
       "    <tr style=\"text-align: right;\">\n",
       "      <th></th>\n",
       "      <th>genres</th>\n",
       "      <th>name</th>\n",
       "      <th>popularity</th>\n",
       "      <th>id</th>\n",
       "    </tr>\n",
       "  </thead>\n",
       "  <tbody>\n",
       "    <tr>\n",
       "      <th>0</th>\n",
       "      <td>['contemporary jazz', 'contemporary post-bop',...</td>\n",
       "      <td>Brad Mehldau</td>\n",
       "      <td>55</td>\n",
       "      <td>2vI9KFm0fwSfPrpEgOeIbq</td>\n",
       "    </tr>\n",
       "    <tr>\n",
       "      <th>1</th>\n",
       "      <td>['contemporary jazz', 'jazz', 'jazz drums', 's...</td>\n",
       "      <td>Ari Hoenig</td>\n",
       "      <td>39</td>\n",
       "      <td>1P6Llrp12ldpVbyC8gCHBz</td>\n",
       "    </tr>\n",
       "    <tr>\n",
       "      <th>2</th>\n",
       "      <td>['contemporary jazz', 'contemporary post-bop',...</td>\n",
       "      <td>Kurt Rosenwinkel</td>\n",
       "      <td>41</td>\n",
       "      <td>253GMpCNwx1TJtASNAeDoP</td>\n",
       "    </tr>\n",
       "    <tr>\n",
       "      <th>3</th>\n",
       "      <td>['contemporary jazz', 'straight-ahead jazz']</td>\n",
       "      <td>Dayna Stephens</td>\n",
       "      <td>16</td>\n",
       "      <td>3Y8rffZJZVJgNWMM6ZVGin</td>\n",
       "    </tr>\n",
       "    <tr>\n",
       "      <th>4</th>\n",
       "      <td>['austrian orchestra', 'classical', 'classical...</td>\n",
       "      <td>Wiener Philharmoniker</td>\n",
       "      <td>70</td>\n",
       "      <td>003f4bk13c6Q3gAUXv7dGJ</td>\n",
       "    </tr>\n",
       "    <tr>\n",
       "      <th>5</th>\n",
       "      <td>['contemporary jazz', 'jazz saxophone']</td>\n",
       "      <td>Mark Turner</td>\n",
       "      <td>31</td>\n",
       "      <td>36kfddkWcVc6XrzNN9BsTP</td>\n",
       "    </tr>\n",
       "    <tr>\n",
       "      <th>6</th>\n",
       "      <td>['modern folk rock', 'modern rock', 'pop rock'...</td>\n",
       "      <td>Mumford &amp; Sons</td>\n",
       "      <td>75</td>\n",
       "      <td>3gd8FJtBJtkRxdfbTu19U2</td>\n",
       "    </tr>\n",
       "    <tr>\n",
       "      <th>7</th>\n",
       "      <td>['neo mellow', 'pop rock', 'singer-songwriter']</td>\n",
       "      <td>John Mayer</td>\n",
       "      <td>82</td>\n",
       "      <td>0hEurMDQu99nJRq8pTxO14</td>\n",
       "    </tr>\n",
       "    <tr>\n",
       "      <th>8</th>\n",
       "      <td>['hip hop', 'pittsburgh rap', 'rap']</td>\n",
       "      <td>Mac Miller</td>\n",
       "      <td>87</td>\n",
       "      <td>4LLpKhyESsyAXpc4laK94U</td>\n",
       "    </tr>\n",
       "    <tr>\n",
       "      <th>9</th>\n",
       "      <td>[]</td>\n",
       "      <td>Noam Wiesenberg</td>\n",
       "      <td>3</td>\n",
       "      <td>0IV9EI5sd2rlMEoAvDg70M</td>\n",
       "    </tr>\n",
       "    <tr>\n",
       "      <th>10</th>\n",
       "      <td>['pop', 'pop rock']</td>\n",
       "      <td>Maroon 5</td>\n",
       "      <td>89</td>\n",
       "      <td>04gDigrS5kc9YWfZHwBETP</td>\n",
       "    </tr>\n",
       "    <tr>\n",
       "      <th>11</th>\n",
       "      <td>['alternative hip hop']</td>\n",
       "      <td>Gorillaz</td>\n",
       "      <td>82</td>\n",
       "      <td>3AA28KZvwAUcZuOKwyblJQ</td>\n",
       "    </tr>\n",
       "  </tbody>\n",
       "</table>\n",
       "</div>"
      ],
      "text/plain": [
       "                                               genres                   name  \\\n",
       "0   ['contemporary jazz', 'contemporary post-bop',...           Brad Mehldau   \n",
       "1   ['contemporary jazz', 'jazz', 'jazz drums', 's...             Ari Hoenig   \n",
       "2   ['contemporary jazz', 'contemporary post-bop',...       Kurt Rosenwinkel   \n",
       "3        ['contemporary jazz', 'straight-ahead jazz']         Dayna Stephens   \n",
       "4   ['austrian orchestra', 'classical', 'classical...  Wiener Philharmoniker   \n",
       "5             ['contemporary jazz', 'jazz saxophone']            Mark Turner   \n",
       "6   ['modern folk rock', 'modern rock', 'pop rock'...         Mumford & Sons   \n",
       "7     ['neo mellow', 'pop rock', 'singer-songwriter']             John Mayer   \n",
       "8                ['hip hop', 'pittsburgh rap', 'rap']             Mac Miller   \n",
       "9                                                  []        Noam Wiesenberg   \n",
       "10                                ['pop', 'pop rock']               Maroon 5   \n",
       "11                            ['alternative hip hop']               Gorillaz   \n",
       "\n",
       "    popularity                      id  \n",
       "0           55  2vI9KFm0fwSfPrpEgOeIbq  \n",
       "1           39  1P6Llrp12ldpVbyC8gCHBz  \n",
       "2           41  253GMpCNwx1TJtASNAeDoP  \n",
       "3           16  3Y8rffZJZVJgNWMM6ZVGin  \n",
       "4           70  003f4bk13c6Q3gAUXv7dGJ  \n",
       "5           31  36kfddkWcVc6XrzNN9BsTP  \n",
       "6           75  3gd8FJtBJtkRxdfbTu19U2  \n",
       "7           82  0hEurMDQu99nJRq8pTxO14  \n",
       "8           87  4LLpKhyESsyAXpc4laK94U  \n",
       "9            3  0IV9EI5sd2rlMEoAvDg70M  \n",
       "10          89  04gDigrS5kc9YWfZHwBETP  \n",
       "11          82  3AA28KZvwAUcZuOKwyblJQ  "
      ]
     },
     "execution_count": 215,
     "metadata": {},
     "output_type": "execute_result"
    }
   ],
   "source": [
    "top_artists_short_term_reduced"
   ]
  },
  {
   "cell_type": "markdown",
   "id": "9b8ed089",
   "metadata": {},
   "source": [
    "### Get Musical Features from Track IDs"
   ]
  },
  {
   "cell_type": "markdown",
   "id": "47f3a16f",
   "metadata": {},
   "source": [
    "We'll be using spotipy's library to do this"
   ]
  },
  {
   "cell_type": "code",
   "execution_count": 64,
   "id": "5985c8d4",
   "metadata": {},
   "outputs": [],
   "source": [
    "import spotipy\n",
    "from config import get_spotipy_client"
   ]
  },
  {
   "cell_type": "code",
   "execution_count": 75,
   "id": "755c8c7d",
   "metadata": {},
   "outputs": [],
   "source": [
    "sp = get_spotipy_client()"
   ]
  },
  {
   "cell_type": "code",
   "execution_count": 82,
   "id": "94cbb04e",
   "metadata": {},
   "outputs": [],
   "source": [
    "short_term_audio_features = sp.audio_features(tracks=list(top_tracks_short_term_df['id']))\n",
    "medium_term_audio_features = sp.audio_features(tracks=list(top_tracks_medium_term_df['id']))\n",
    "long_term_audio_features = sp.audio_features(tracks=list(top_tracks_long_term_df['id']))"
   ]
  },
  {
   "cell_type": "code",
   "execution_count": 84,
   "id": "18df3bbe",
   "metadata": {},
   "outputs": [],
   "source": [
    "short_term_audio_features_df = pd.DataFrame(short_term_audio_features)\n",
    "medium_term_audio_features_df = pd.DataFrame(medium_term_audio_features)\n",
    "long_term_audio_features_df = pd.DataFrame(long_term_audio_features)"
   ]
  },
  {
   "cell_type": "markdown",
   "id": "37c74f3c",
   "metadata": {},
   "source": [
    "#### Add name and release_date column for audio features"
   ]
  },
  {
   "cell_type": "code",
   "execution_count": 200,
   "id": "a4ec97df",
   "metadata": {},
   "outputs": [],
   "source": [
    "import ast"
   ]
  },
  {
   "cell_type": "code",
   "execution_count": 88,
   "id": "8a0ca6e3",
   "metadata": {},
   "outputs": [],
   "source": [
    "short_term_audio_features_df['name'] = top_tracks_short_term_df['name']\n",
    "medium_term_audio_features_df['name'] = top_tracks_medium_term_df['name']\n",
    "long_term_audio_features_df['name'] = top_tracks_long_term_df['name']"
   ]
  },
  {
   "cell_type": "code",
   "execution_count": 196,
   "id": "55608b18",
   "metadata": {},
   "outputs": [],
   "source": [
    "release_dates = []\n",
    "for i in top_tracks_short_term_df['album']:\n",
    "    date = ast.literal_eval(i)['release_date']\n",
    "    release_dates.append(date) \n",
    "short_term_audio_features_df['release_date'] = release_dates"
   ]
  },
  {
   "cell_type": "code",
   "execution_count": 201,
   "id": "30bc0a23",
   "metadata": {},
   "outputs": [],
   "source": [
    "release_dates = []\n",
    "for i in top_tracks_medium_term_df['album']:\n",
    "    date = ast.literal_eval(i)['release_date']\n",
    "    release_dates.append(date) \n",
    "medium_term_audio_features_df['release_date'] = release_dates"
   ]
  },
  {
   "cell_type": "code",
   "execution_count": 202,
   "id": "0726c538",
   "metadata": {},
   "outputs": [],
   "source": [
    "release_dates = []\n",
    "for i in top_tracks_long_term_df['album']:\n",
    "    date = ast.literal_eval(i)['release_date']\n",
    "    release_dates.append(date) \n",
    "long_term_audio_features_df['release_date'] = release_dates"
   ]
  },
  {
   "cell_type": "code",
   "execution_count": 203,
   "id": "fd2577a5",
   "metadata": {},
   "outputs": [],
   "source": [
    "short_term_audio_features_df.to_csv('data/audio_features_short.csv')\n",
    "medium_term_audio_features_df.to_csv('data/audio_features_medium.csv')\n",
    "long_term_audio_features_df.to_csv('data/audio_features_long.csv')"
   ]
  },
  {
   "cell_type": "markdown",
   "id": "478e81eb",
   "metadata": {},
   "source": [
    "#### All Musical Features\n",
    "Remove duplicates"
   ]
  },
  {
   "cell_type": "code",
   "execution_count": 204,
   "id": "f3381f61",
   "metadata": {},
   "outputs": [],
   "source": [
    "all_audio_features_df = pd.concat([short_term_audio_features_df, medium_term_audio_features_df, long_term_audio_features_df])"
   ]
  },
  {
   "cell_type": "code",
   "execution_count": 205,
   "id": "ad8d7f88",
   "metadata": {},
   "outputs": [],
   "source": [
    "all_audio_features_df = all_audio_features_df.drop_duplicates(subset='name')"
   ]
  },
  {
   "cell_type": "markdown",
   "id": "256c231b",
   "metadata": {},
   "source": [
    "#### Get Averages of Features\n",
    "\n",
    "Do this for each time ranges"
   ]
  },
  {
   "cell_type": "code",
   "execution_count": 206,
   "id": "b30df419",
   "metadata": {},
   "outputs": [],
   "source": [
    "audio_features = ['danceability', 'energy', 'loudness', 'speechiness', 'acousticness', 'instrumentalness', 'tempo', 'liveness', 'valence']"
   ]
  },
  {
   "cell_type": "code",
   "execution_count": 207,
   "id": "9e817db7",
   "metadata": {},
   "outputs": [],
   "source": [
    "audio_features_averages_short = short_term_audio_features_df[audio_features].mean()\n",
    "audio_features_averages_medium = medium_term_audio_features_df[audio_features].mean()\n",
    "audio_features_averages_long = long_term_audio_features_df[audio_features].mean()\n",
    "audio_features_averages_all = all_audio_features_df[audio_features].mean()"
   ]
  },
  {
   "cell_type": "code",
   "execution_count": 208,
   "id": "272992d2",
   "metadata": {},
   "outputs": [],
   "source": [
    "audio_features_averages_df = pd.DataFrame([dict(audio_features_averages_short), dict(audio_features_averages_medium), dict(audio_features_averages_long), dict(audio_features_averages_all)])\n",
    "audio_features_averages_df['time_frame'] = ['short_term', 'medium_term', 'long_term', 'all']"
   ]
  },
  {
   "cell_type": "code",
   "execution_count": 209,
   "id": "fdbdc9d2",
   "metadata": {},
   "outputs": [],
   "source": [
    "audio_features_averages_df.to_csv('data/audio_features_averages.csv')"
   ]
  },
  {
   "cell_type": "markdown",
   "id": "08ffa413",
   "metadata": {},
   "source": [
    "### Data So Far...\n",
    "\n",
    "Now we have audio features for each track, the averages of those features over time and in total, track release dates, my top artists that I listen to, the artist's popularity index, and the genres of the artist's"
   ]
  },
  {
   "cell_type": "markdown",
   "id": "301b41ff",
   "metadata": {},
   "source": [
    "### Some More Cleaning\n",
    "\n",
    "#### Grouped Dot Viz\n",
    "Need top genres (colour), artists (dots), separated by time range. This is for the d3.js visualizations"
   ]
  },
  {
   "cell_type": "code",
   "execution_count": 221,
   "id": "4fd3ac10",
   "metadata": {},
   "outputs": [],
   "source": [
    "top_genres = ['jazz', 'rock', 'classical', 'pop', 'rap', 'hip hop', 'pop rock', 'r&b', 'electro', 'tibetan traditional']"
   ]
  },
  {
   "cell_type": "code",
   "execution_count": 245,
   "id": "264a769f",
   "metadata": {},
   "outputs": [
    {
     "name": "stderr",
     "output_type": "stream",
     "text": [
      "/var/folders/0w/7qj8hh4n3w53g1qsr8gf4s_w0000gn/T/ipykernel_66905/2192244282.py:10: SettingWithCopyWarning: \n",
      "A value is trying to be set on a copy of a slice from a DataFrame.\n",
      "Try using .loc[row_indexer,col_indexer] = value instead\n",
      "\n",
      "See the caveats in the documentation: https://pandas.pydata.org/pandas-docs/stable/user_guide/indexing.html#returning-a-view-versus-a-copy\n",
      "  top_artists_short_term_reduced['genre'] = current_genres\n"
     ]
    }
   ],
   "source": [
    "current_genres = []\n",
    "for i in top_artists_short_term_reduced['genres'].values:\n",
    "    op = i.strip(\"[\").strip(\"]\").replace(\"'\",\"\").split(\", \")\n",
    "    genre = \"\"\n",
    "    for q in op:\n",
    "        if q in top_genres:\n",
    "            genre = q\n",
    "            break\n",
    "    current_genres.append(genre)\n",
    "top_artists_short_term_reduced['genre'] = current_genres"
   ]
  },
  {
   "cell_type": "code",
   "execution_count": 247,
   "id": "52bbec77",
   "metadata": {},
   "outputs": [
    {
     "name": "stderr",
     "output_type": "stream",
     "text": [
      "/var/folders/0w/7qj8hh4n3w53g1qsr8gf4s_w0000gn/T/ipykernel_66905/164708099.py:10: SettingWithCopyWarning: \n",
      "A value is trying to be set on a copy of a slice from a DataFrame.\n",
      "Try using .loc[row_indexer,col_indexer] = value instead\n",
      "\n",
      "See the caveats in the documentation: https://pandas.pydata.org/pandas-docs/stable/user_guide/indexing.html#returning-a-view-versus-a-copy\n",
      "  top_artists_medium_term_reduced['genre'] = current_genres\n"
     ]
    }
   ],
   "source": [
    "current_genres = []\n",
    "for i in top_artists_medium_term_reduced['genres'].values:\n",
    "    op = i.strip(\"[\").strip(\"]\").replace(\"'\",\"\").split(\", \")\n",
    "    genre = \"\"\n",
    "    for q in op:\n",
    "        if q in top_genres:\n",
    "            genre = q\n",
    "            break\n",
    "    current_genres.append(genre)\n",
    "top_artists_medium_term_reduced['genre'] = current_genres"
   ]
  },
  {
   "cell_type": "code",
   "execution_count": 248,
   "id": "59778723",
   "metadata": {},
   "outputs": [
    {
     "name": "stderr",
     "output_type": "stream",
     "text": [
      "/var/folders/0w/7qj8hh4n3w53g1qsr8gf4s_w0000gn/T/ipykernel_66905/3255074047.py:10: SettingWithCopyWarning: \n",
      "A value is trying to be set on a copy of a slice from a DataFrame.\n",
      "Try using .loc[row_indexer,col_indexer] = value instead\n",
      "\n",
      "See the caveats in the documentation: https://pandas.pydata.org/pandas-docs/stable/user_guide/indexing.html#returning-a-view-versus-a-copy\n",
      "  top_artists_long_term_reduced['genre'] = current_genres\n"
     ]
    }
   ],
   "source": [
    "current_genres = []\n",
    "for i in top_artists_long_term_reduced['genres'].values:\n",
    "    op = i.strip(\"[\").strip(\"]\").replace(\"'\",\"\").split(\", \")\n",
    "    genre = \"\"\n",
    "    for q in op:\n",
    "        if q in top_genres:\n",
    "            genre = q\n",
    "            break\n",
    "    current_genres.append(genre)\n",
    "top_artists_long_term_reduced['genre'] = current_genres"
   ]
  },
  {
   "cell_type": "code",
   "execution_count": 251,
   "id": "ee875da2",
   "metadata": {},
   "outputs": [],
   "source": [
    "top_artists_short_term_reduced.to_csv('data/artists_short_term_reduced.csv')\n",
    "top_artists_medium_term_reduced.to_csv('data/artists_medium_term_reduced.csv')\n",
    "top_artists_long_term_reduced.to_csv('data/artists_long_term_reduced.csv')"
   ]
  },
  {
   "cell_type": "markdown",
   "id": "ad851d62",
   "metadata": {},
   "source": [
    "### For Musical Features"
   ]
  },
  {
   "cell_type": "code",
   "execution_count": 268,
   "id": "cafbe8fb",
   "metadata": {},
   "outputs": [],
   "source": [
    "df = []\n",
    "for i, q in audio_features_averages_all.items():\n",
    "    df.append([i,q])"
   ]
  },
  {
   "cell_type": "code",
   "execution_count": 270,
   "id": "ac5a2abd",
   "metadata": {},
   "outputs": [],
   "source": [
    "features_all = pd.DataFrame(df, columns=['feature', 'percentage'])"
   ]
  },
  {
   "cell_type": "code",
   "execution_count": 273,
   "id": "f70b3c7a",
   "metadata": {},
   "outputs": [],
   "source": [
    "features_all.to_csv('data/avg_all_musical_features_organized.csv',index=False)"
   ]
  },
  {
   "cell_type": "code",
   "execution_count": 277,
   "id": "626ec896",
   "metadata": {},
   "outputs": [],
   "source": [
    "keep = ['time_frame', 'valence', 'liveness', 'danceability','energy','speechiness','acousticness', 'instrumentalness']"
   ]
  },
  {
   "cell_type": "code",
   "execution_count": 278,
   "id": "7f79ee8c",
   "metadata": {},
   "outputs": [],
   "source": [
    "audio_features_averages_df = audio_features_averages_df[keep]"
   ]
  },
  {
   "cell_type": "code",
   "execution_count": 282,
   "id": "f4c9dc66",
   "metadata": {},
   "outputs": [],
   "source": [
    "audio_features_averages_df = audio_features_averages_df[audio_features_averages_df['time_frame'] != \"all\"]"
   ]
  },
  {
   "cell_type": "code",
   "execution_count": 284,
   "id": "7a65db2f",
   "metadata": {},
   "outputs": [],
   "source": [
    "audio_features_averages_df.to_csv('data/audio_features_over_time.csv',index=False)"
   ]
  },
  {
   "cell_type": "markdown",
   "id": "7dd1154f",
   "metadata": {},
   "source": [
    "### Genre's"
   ]
  },
  {
   "cell_type": "code",
   "execution_count": 287,
   "id": "8478d30c",
   "metadata": {},
   "outputs": [],
   "source": [
    "artist_genre_data = pd.read_csv('data/artists_long_term_reduced_edit.csv')"
   ]
  },
  {
   "cell_type": "code",
   "execution_count": 289,
   "id": "2db372d4",
   "metadata": {},
   "outputs": [],
   "source": [
    "artist_genre_data = artist_genre_data[['name', 'genre']]"
   ]
  },
  {
   "cell_type": "code",
   "execution_count": 291,
   "id": "0e8e3bc4",
   "metadata": {},
   "outputs": [],
   "source": [
    "artist_genre_data.to_csv('data/artist_genre_viz.csv',index=False)"
   ]
  },
  {
   "cell_type": "code",
   "execution_count": 294,
   "id": "aff69bd6",
   "metadata": {},
   "outputs": [
    {
     "data": {
      "text/plain": [
       "array(['jazz', 'rock', 'classical', 'hip hop', 'pop', 'tibetan',\n",
       "       'electro'], dtype=object)"
      ]
     },
     "execution_count": 294,
     "metadata": {},
     "output_type": "execute_result"
    }
   ],
   "source": [
    "artist_genre_data.genre.unique()"
   ]
  },
  {
   "cell_type": "code",
   "execution_count": 297,
   "id": "2f356b5b",
   "metadata": {},
   "outputs": [
    {
     "data": {
      "text/plain": [
       "[{'name': 'Brad Mehldau', 'genre': 'jazz'},\n",
       " {'name': 'Shai Maestro', 'genre': 'jazz'},\n",
       " {'name': 'Walter Smith III', 'genre': 'jazz'},\n",
       " {'name': 'Aaron Parks', 'genre': 'jazz'},\n",
       " {'name': 'Queen', 'genre': 'rock'},\n",
       " {'name': 'Khatia Buniatishvili', 'genre': 'classical'},\n",
       " {'name': 'Drake', 'genre': 'hip hop'},\n",
       " {'name': 'Kendrick Scott Oracle', 'genre': 'jazz'},\n",
       " {'name': 'Kurt Rosenwinkel', 'genre': 'jazz'},\n",
       " {'name': 'Daniel Caesar', 'genre': 'pop'},\n",
       " {'name': 'Ambrose Akinmusire', 'genre': 'jazz'},\n",
       " {'name': 'Billie Eilish', 'genre': 'pop'},\n",
       " {'name': 'Ben Wendel', 'genre': 'jazz'},\n",
       " {'name': 'Brad Mehldau Trio', 'genre': 'jazz'},\n",
       " {'name': 'Chet Baker', 'genre': 'jazz'},\n",
       " {'name': 'Kanye West', 'genre': 'hip hop'},\n",
       " {'name': 'Amine', 'genre': 'hip hop'},\n",
       " {'name': 'Berliner Philharmoniker', 'genre': 'classical'},\n",
       " {'name': 'Jacob Mann', 'genre': 'jazz'},\n",
       " {'name': 'Omar Apollo', 'genre': 'pop'},\n",
       " {'name': 'Tibetan Institute Of Performing Arts', 'genre': 'tibetan'},\n",
       " {'name': 'Tigran Hamasyan', 'genre': 'jazz'},\n",
       " {'name': 'Lana Del Rey', 'genre': 'pop'},\n",
       " {'name': 'Joshua Redman', 'genre': 'jazz'},\n",
       " {'name': 'Beyonce', 'genre': 'pop'},\n",
       " {'name': 'Immanuel Wilkins', 'genre': 'jazz'},\n",
       " {'name': 'Lady Gaga', 'genre': 'pop'},\n",
       " {'name': 'Gerald Clayton', 'genre': 'jazz'},\n",
       " {'name': 'Mark Turner', 'genre': 'jazz'},\n",
       " {'name': 'Nir Felder', 'genre': 'jazz'},\n",
       " {'name': 'Snoh Aalegra', 'genre': 'pop'},\n",
       " {'name': 'Florence + The Machine', 'genre': 'pop'},\n",
       " {'name': 'Arthur Rubinstein', 'genre': 'classical'},\n",
       " {'name': 'Miguel', 'genre': 'hip hop'},\n",
       " {'name': 'Still Woozy', 'genre': 'hip hop'},\n",
       " {'name': 'Dayna Stephens', 'genre': 'jazz'},\n",
       " {'name': 'Cigarettes After Sex', 'genre': 'jazz'},\n",
       " {'name': 'Seamus Blake', 'genre': 'jazz'},\n",
       " {'name': 'Daft Punk', 'genre': 'electro'},\n",
       " {'name': 'Lizzo', 'genre': 'pop'},\n",
       " {'name': 'Doja Cat', 'genre': 'pop'},\n",
       " {'name': 'Ari Hoenig', 'genre': 'jazz'},\n",
       " {'name': 'Kali Uchis', 'genre': 'pop'},\n",
       " {'name': 'Wallows', 'genre': 'pop'},\n",
       " {'name': 'Tame Impala', 'genre': 'pop'},\n",
       " {'name': 'The Beatles', 'genre': 'rock'},\n",
       " {'name': 'Matt Brewer', 'genre': 'jazz'},\n",
       " {'name': 'Tinashe', 'genre': 'pop'},\n",
       " {'name': 'John Legend', 'genre': 'pop'},\n",
       " {'name': 'Keith Jarrett Trio', 'genre': 'jazz'}]"
      ]
     },
     "execution_count": 297,
     "metadata": {},
     "output_type": "execute_result"
    }
   ],
   "source": [
    "artist_genre_data.to_dict('records')"
   ]
  },
  {
   "cell_type": "code",
   "execution_count": null,
   "id": "e379e335",
   "metadata": {},
   "outputs": [],
   "source": []
  }
 ],
 "metadata": {
  "kernelspec": {
   "display_name": "Python 3 (ipykernel)",
   "language": "python",
   "name": "python3"
  },
  "language_info": {
   "codemirror_mode": {
    "name": "ipython",
    "version": 3
   },
   "file_extension": ".py",
   "mimetype": "text/x-python",
   "name": "python",
   "nbconvert_exporter": "python",
   "pygments_lexer": "ipython3",
   "version": "3.9.2"
  }
 },
 "nbformat": 4,
 "nbformat_minor": 5
}

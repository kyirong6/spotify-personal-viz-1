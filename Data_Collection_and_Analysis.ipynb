{
 "cells": [
  {
   "cell_type": "markdown",
   "id": "9f99e57a",
   "metadata": {},
   "source": [
    "## Convert JSON Objects into Data Frames"
   ]
  },
  {
   "cell_type": "markdown",
   "id": "8b951b1e",
   "metadata": {},
   "source": [
    "### Read JSON Files"
   ]
  },
  {
   "cell_type": "code",
   "execution_count": 27,
   "id": "5fab8d37",
   "metadata": {},
   "outputs": [],
   "source": [
    "import json"
   ]
  },
  {
   "cell_type": "code",
   "execution_count": 40,
   "id": "73ebfe90",
   "metadata": {},
   "outputs": [],
   "source": [
    "time_range = ['short_term', 'medium_term', 'long_term']"
   ]
  },
  {
   "cell_type": "markdown",
   "id": "5d1eac58",
   "metadata": {},
   "source": [
    "##### Tracks"
   ]
  },
  {
   "cell_type": "code",
   "execution_count": 42,
   "id": "2aca4460",
   "metadata": {},
   "outputs": [],
   "source": [
    "track_data_json = {}\n",
    "for term in time_range:\n",
    "    with open(f\"data/top_tracks_{term}.json\") as json_file:\n",
    "        data = json.load(json_file)\n",
    "    key = f'{term}'\n",
    "    track_data_json[key] = data"
   ]
  },
  {
   "cell_type": "markdown",
   "id": "59793231",
   "metadata": {},
   "source": [
    "##### Artists"
   ]
  },
  {
   "cell_type": "code",
   "execution_count": 48,
   "id": "b3fdb1ce",
   "metadata": {},
   "outputs": [],
   "source": [
    "artists_data_json = {}\n",
    "for term in time_range:\n",
    "    with open(f\"data/top_artists_{term}.json\") as json_file:\n",
    "        data = json.load(json_file)\n",
    "    key = f'{term}'\n",
    "    artists_data_json[key] = data"
   ]
  },
  {
   "cell_type": "markdown",
   "id": "de2ecaa9",
   "metadata": {},
   "source": [
    "### Organize Artists and Tracks Data"
   ]
  },
  {
   "cell_type": "markdown",
   "id": "7e4ed392",
   "metadata": {},
   "source": [
    "Turn the dictionaries into csv and pandas dataframe"
   ]
  },
  {
   "cell_type": "code",
   "execution_count": 53,
   "id": "66550afd",
   "metadata": {},
   "outputs": [],
   "source": [
    "for term in time_range:\n",
    "    data = artists_data_json[term]\n",
    "    df = pd.DataFrame(data['items'])\n",
    "    df.to_csv(f'data/top_artists_{term}.csv')"
   ]
  },
  {
   "cell_type": "code",
   "execution_count": 57,
   "id": "40f3d581",
   "metadata": {},
   "outputs": [],
   "source": [
    "for term in time_range:\n",
    "    data = track_data_json[term]\n",
    "    df = pd.DataFrame(data['items'])\n",
    "    df.to_csv(f'data/top_tracks_{term}.csv')"
   ]
  },
  {
   "cell_type": "code",
   "execution_count": 58,
   "id": "ec26f34b",
   "metadata": {},
   "outputs": [],
   "source": [
    "top_artists_short_term_df = pd.read_csv('data/top_artists_short_term.csv')\n",
    "top_artists_medium_term_df = pd.read_csv('data/top_artists_medium_term.csv')\n",
    "top_artists_long_term_df = pd.read_csv('data/top_artists_long_term.csv')"
   ]
  },
  {
   "cell_type": "code",
   "execution_count": 59,
   "id": "bb610c90",
   "metadata": {},
   "outputs": [],
   "source": [
    "top_tracks_short_term_df = pd.read_csv('data/top_tracks_short_term.csv')\n",
    "top_tracks_medium_term_df = pd.read_csv('data/top_tracks_medium_term.csv')\n",
    "top_tracks_long_term_df = pd.read_csv('data/top_tracks_long_term.csv')"
   ]
  },
  {
   "cell_type": "markdown",
   "id": "3b0cd0f4",
   "metadata": {},
   "source": [
    "### Keep Popularity and Genres for Artists"
   ]
  },
  {
   "cell_type": "code",
   "execution_count": 134,
   "id": "5b557702",
   "metadata": {},
   "outputs": [],
   "source": [
    "artist_features = ['genres', 'name', 'popularity', 'id']"
   ]
  },
  {
   "cell_type": "code",
   "execution_count": 135,
   "id": "861e1807",
   "metadata": {},
   "outputs": [],
   "source": [
    "top_artists_short_term_reduced = top_artists_short_term_df[artist_features]\n",
    "top_artists_medium_term_reduced = top_artists_medium_term_df[artist_features]\n",
    "top_artists_long_term_reduced = top_artists_long_term_df[artist_features]"
   ]
  },
  {
   "cell_type": "code",
   "execution_count": 138,
   "id": "83df12a9",
   "metadata": {},
   "outputs": [],
   "source": [
    "top_artists_short_term_reduced.to_csv('data/artists_short_term_reduced.csv')\n",
    "top_artists_medium_term_reduced.to_csv('data/artists_medium_term_reduced.csv')\n",
    "top_artists_long_term_reduced.to_csv('data/artists_long_term_reduced.csv')"
   ]
  },
  {
   "cell_type": "markdown",
   "id": "41acee60",
   "metadata": {},
   "source": [
    "### Get Musical Features from Track IDs"
   ]
  },
  {
   "cell_type": "markdown",
   "id": "5e78b5e6",
   "metadata": {},
   "source": [
    "We'll be using spotipy's library to do this"
   ]
  },
  {
   "cell_type": "code",
   "execution_count": 64,
   "id": "27edeed4",
   "metadata": {},
   "outputs": [],
   "source": [
    "import spotipy\n",
    "from config import get_spotipy_client"
   ]
  },
  {
   "cell_type": "code",
   "execution_count": 75,
   "id": "f11b8b75",
   "metadata": {},
   "outputs": [],
   "source": [
    "sp = get_spotipy_client()"
   ]
  },
  {
   "cell_type": "code",
   "execution_count": 82,
   "id": "54f1bc91",
   "metadata": {},
   "outputs": [],
   "source": [
    "short_term_audio_features = sp.audio_features(tracks=list(top_tracks_short_term_df['id']))\n",
    "medium_term_audio_features = sp.audio_features(tracks=list(top_tracks_medium_term_df['id']))\n",
    "long_term_audio_features = sp.audio_features(tracks=list(top_tracks_long_term_df['id']))"
   ]
  },
  {
   "cell_type": "code",
   "execution_count": 84,
   "id": "2542cf46",
   "metadata": {},
   "outputs": [],
   "source": [
    "short_term_audio_features_df = pd.DataFrame(short_term_audio_features)\n",
    "medium_term_audio_features_df = pd.DataFrame(medium_term_audio_features)\n",
    "long_term_audio_features_df = pd.DataFrame(long_term_audio_features)"
   ]
  },
  {
   "cell_type": "markdown",
   "id": "1885dea0",
   "metadata": {},
   "source": [
    "#### Add name column for audio features"
   ]
  },
  {
   "cell_type": "code",
   "execution_count": 88,
   "id": "82d80dbd",
   "metadata": {},
   "outputs": [],
   "source": [
    "short_term_audio_features_df['name'] = top_tracks_short_term_df['name']\n",
    "medium_term_audio_features_df['name'] = top_tracks_medium_term_df['name']\n",
    "long_term_audio_features_df['name'] = top_tracks_long_term_df['name']"
   ]
  },
  {
   "cell_type": "code",
   "execution_count": 132,
   "id": "ece86bd4",
   "metadata": {},
   "outputs": [],
   "source": [
    "short_term_audio_features_df.to_csv('data/audio_features_short.csv')\n",
    "medium_term_audio_features_df.to_csv('data/audio_features_medium.csv')\n",
    "long_term_audio_features_df.to_csv('data/audio_features_long.csv')"
   ]
  },
  {
   "cell_type": "markdown",
   "id": "c44ed060",
   "metadata": {},
   "source": [
    "#### All Musical Features\n",
    "Remove duplicates"
   ]
  },
  {
   "cell_type": "code",
   "execution_count": 90,
   "id": "b2907cc7",
   "metadata": {},
   "outputs": [],
   "source": [
    "all_audio_features_df = pd.concat([short_term_audio_features_df, medium_term_audio_features_df, long_term_audio_features_df])"
   ]
  },
  {
   "cell_type": "code",
   "execution_count": 93,
   "id": "d4d5aa84",
   "metadata": {},
   "outputs": [],
   "source": [
    "all_audio_features_df = all_audio_features_df.drop_duplicates(subset='name')"
   ]
  },
  {
   "cell_type": "markdown",
   "id": "4e480fca",
   "metadata": {},
   "source": [
    "#### Get Averages of Features\n",
    "\n",
    "Do this for each time ranges"
   ]
  },
  {
   "cell_type": "code",
   "execution_count": 102,
   "id": "00b05229",
   "metadata": {},
   "outputs": [],
   "source": [
    "audio_features = ['danceability', 'energy', 'loudness', 'speechiness', 'acousticness', 'instrumentalness', 'tempo', 'liveness', 'valence']"
   ]
  },
  {
   "cell_type": "code",
   "execution_count": 103,
   "id": "6138aa39",
   "metadata": {},
   "outputs": [],
   "source": [
    "audio_features_averages_short = short_term_audio_features_df[audio_features].mean()\n",
    "audio_features_averages_medium = medium_term_audio_features_df[audio_features].mean()\n",
    "audio_features_averages_long = long_term_audio_features_df[audio_features].mean()\n",
    "audio_features_averages_all = all_audio_features_df[audio_features].mean()"
   ]
  },
  {
   "cell_type": "code",
   "execution_count": 129,
   "id": "03a8dcbf",
   "metadata": {},
   "outputs": [],
   "source": [
    "audio_features_averages_df = pd.DataFrame([dict(audio_features_averages_short), dict(audio_features_averages_medium), dict(audio_features_averages_long), dict(audio_features_averages_all)])\n",
    "audio_features_averages_df['time_frame'] = ['short_term', 'medium_term', 'long_term', 'all']"
   ]
  },
  {
   "cell_type": "code",
   "execution_count": 131,
   "id": "394658e0",
   "metadata": {},
   "outputs": [],
   "source": [
    "audio_features_averages_df.to_csv('data/audio_features_averages.csv')"
   ]
  },
  {
   "cell_type": "markdown",
   "id": "2eee7214",
   "metadata": {},
   "source": [
    "### Data So Far...\n",
    "\n",
    "Now we have audio features for each track, the averages of those features over time and in total, my top artists that I listen to, the artist's popularity index, and the genres of the artist's"
   ]
  },
  {
   "cell_type": "code",
   "execution_count": null,
   "id": "f7480112",
   "metadata": {},
   "outputs": [],
   "source": []
  }
 ],
 "metadata": {
  "kernelspec": {
   "display_name": "Python 3 (ipykernel)",
   "language": "python",
   "name": "python3"
  },
  "language_info": {
   "codemirror_mode": {
    "name": "ipython",
    "version": 3
   },
   "file_extension": ".py",
   "mimetype": "text/x-python",
   "name": "python",
   "nbconvert_exporter": "python",
   "pygments_lexer": "ipython3",
   "version": "3.9.2"
  }
 },
 "nbformat": 4,
 "nbformat_minor": 5
}
